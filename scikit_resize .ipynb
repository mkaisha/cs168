{
 "cells": [
  {
   "cell_type": "code",
   "execution_count": 167,
   "metadata": {},
   "outputs": [],
   "source": [
    "from scipy.io import loadmat\n",
    "from scipy.io import savemat\n",
    "import skimage\n",
    "from skimage import transform\n",
    "from skimage.transform import rescale\n",
    "for i in range(2,47):\n",
    "    if i != 7: #img7.mat was broken\n",
    "        index = str(i)\n",
    "        modified = 'modified'\n",
    "        format = \".mat\"\n",
    "        imputf = index+format\n",
    "        outputf = index+modified+format\n",
    "        img_name= \"img\"+index\n",
    "        loaded_img = loadmat(c)\n",
    "        img = skimage.transform.resize(loaded_img[img_name], (128,128,20,loaded_img['img'].shape[3]))\n",
    "        savemat((outputf),{'img': img})"
   ]
  }
 ],
 "metadata": {
  "kernelspec": {
   "display_name": "Python 3",
   "language": "python",
   "name": "python3"
  },
  "language_info": {
   "codemirror_mode": {
    "name": "ipython",
    "version": 3
   },
   "file_extension": ".py",
   "mimetype": "text/x-python",
   "name": "python",
   "nbconvert_exporter": "python",
   "pygments_lexer": "ipython3",
   "version": "3.7.6"
  }
 },
 "nbformat": 4,
 "nbformat_minor": 4
}
