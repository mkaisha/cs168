{
 "cells": [
  {
   "cell_type": "code",
   "execution_count": 167,
   "metadata": {},
   "outputs": [],
   "source": [
    "from scipy.io import loadmat\n",
    "from scipy.io import savemat\n",
    "import skimage\n",
    "from skimage import transform\n",
    "from skimage.transform import rescale\n",
    "for i in range(2,47):\n",
    "    if i != 7: #img7.mat was broken\n",
    "        a = str(i)\n",
    "        m = 'm'\n",
    "        b = \".mat\"\n",
    "        c = a+b\n",
    "        d = a+m+b\n",
    "        j = 'img'\n",
    "        k= j+a\n",
    "        t = loadmat(c)\n",
    "        img = skimage.transform.resize(t[k], (128,128,20,t['img'].shape[3]))\n",
    "        savemat((d),{'img': img})"
   ]
  }
 ],
 "metadata": {
  "kernelspec": {
   "display_name": "Python 3",
   "language": "python",
   "name": "python3"
  },
  "language_info": {
   "codemirror_mode": {
    "name": "ipython",
    "version": 3
   },
   "file_extension": ".py",
   "mimetype": "text/x-python",
   "name": "python",
   "nbconvert_exporter": "python",
   "pygments_lexer": "ipython3",
   "version": "3.7.6"
  }
 },
 "nbformat": 4,
 "nbformat_minor": 4
}
